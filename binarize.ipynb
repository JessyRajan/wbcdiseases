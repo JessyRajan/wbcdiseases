{
 "cells": [
  {
   "cell_type": "code",
   "execution_count": 1,
   "metadata": {},
   "outputs": [
    {
     "data": {
      "text/plain": [
       "True"
      ]
     },
     "execution_count": 1,
     "metadata": {},
     "output_type": "execute_result"
    }
   ],
   "source": [
    "import cv2 as cv2\n",
    "import numpy as np\n",
    "\n",
    "#Use the function cv2.imread() to read an image. \n",
    "#The image should be in the working directory or a full path of image should be given.\n",
    "image = cv2.imread('LISC Database/More Dataset without Ground Truth/alll/20020515-65.bmp')\n",
    "gray = cv2.cvtColor(image,cv2.COLOR_BGR2GRAY)\n",
    "#cv2.COLOR_BGR2GRAY is used for BGR to Gray conversion\n",
    "\n",
    "#cv2.imshow('gray.jpg',gray)\n",
    "\n",
    "#write into newfolder named as graynew\n",
    "\n",
    "cv2.imwrite('graynew/gray.jpg', gray)#Use the function cv2.imwrite() to save an image and stored in graynew folder\n",
    "#First argument is the file name, second argument is the image you want to save.\n",
    "\n",
    "#load the image gray.jpg from graynewfolder\n",
    "im_gray = cv2.imread('graynew/gray.jpg', cv2.IMREAD_GRAYSCALE)\n",
    "\n",
    "#cv2.IMREAD_GRAYSCALE : Loads image in grayscale mode\n",
    "\n",
    "thresh = 127\n",
    "binary = cv2.threshold(im_gray, thresh, 255, cv2.THRESH_BINARY)[1]\n",
    "#cv2.threshold is a funtn,first arg is sourceimage,(should be a grayscale image),\n",
    "#2nd arg is threshold value which is used to classify the pixel values\n",
    "#3rd arg is the maxVal which represents the value to be given if pixel value is > or < the threshold value.\n",
    "cv2.imwrite('binary/binary.jpg', binary)\n",
    "\n",
    "#use to smooth an image is the Gaussian blur(eg of low pass filtering) operation\n",
    "\n",
    "img_blur_small = cv2.GaussianBlur(binary, (5,5), 0)\n",
    "#1st arg image \n",
    "#2nd arg a tuple describing the shape of the kernel, (k, k)\n",
    "#3rd s the std devtn for the 2d Gaussian distribution in the x dimension. \n",
    "#If we pass in 0, OpenCV automatically determines default std devtn for both the x and y dimensions, based on the kernel size. \n",
    "\n",
    "cv2.imwrite('blur/blur.jpg', img_blur_small)\n",
    "#save in blur folder"
   ]
  },
  {
   "cell_type": "code",
   "execution_count": null,
   "metadata": {},
   "outputs": [],
   "source": []
  }
 ],
 "metadata": {
  "kernelspec": {
   "display_name": "Python 2",
   "language": "python",
   "name": "python2"
  },
  "language_info": {
   "codemirror_mode": {
    "name": "ipython",
    "version": 2
   },
   "file_extension": ".py",
   "mimetype": "text/x-python",
   "name": "python",
   "nbconvert_exporter": "python",
   "pygments_lexer": "ipython2",
   "version": "2.7.12"
  }
 },
 "nbformat": 4,
 "nbformat_minor": 2
}
